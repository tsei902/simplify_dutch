{
 "cells": [
  {
   "cell_type": "code",
   "execution_count": 47,
   "metadata": {},
   "outputs": [],
   "source": [
    "from abc import ABC, abstractmethod\n",
    "import re\n",
    "from sacremoses import MosesTokenizer\n",
    "import Levenshtein\n",
    "import spacy\n",
    "import nltk\n",
    "import pickle\n",
    "import urllib\n",
    "import os\n",
    "import tarfile\n",
    "import zipfile\n",
    "import seaborn as sns\n",
    "import pandas as pd\n",
    "from tqdm import tqdm\n",
    "from pathlib import Path\n",
    "import numpy as np\n",
    "# import paths\n",
    "from string import punctuation\n",
    "import matplotlib.pyplot as plt\n",
    "nltk.download('stopwords', quiet=True)\n",
    "from nltk.corpus import stopwords\n",
    "from nltk import word_tokenize\n",
    "RESOURCES_DIR = Path('../resources')\n",
    "DATASETS_PATH = RESOURCES_DIR / \"datasets\"\n",
    "WORD_EMBEDDINGS_NAME ='cc.nl.300'\n",
    "DUMPS_DIR = RESOURCES_DIR / \"DUMPS\"\n",
    "\n",
    "import gensim\n",
    "stopwords = set(stopwords.words(\"dutch\"))"
   ]
  },
  {
   "cell_type": "code",
   "execution_count": 48,
   "metadata": {},
   "outputs": [],
   "source": [
    "def ControlDivisionByZero(numerator, denominator):\n",
    "    return numerator / denominator if denominator != 0 else 0\n",
    "\n",
    "\n",
    "class FeatureAbstract(ABC):\n",
    "\n",
    "    @abstractmethod\n",
    "    def get_ratio(self, kwargs):\n",
    "        pass\n",
    "\n",
    "    @abstractmethod\n",
    "    def calculate_ratio(self, simple_text, original_text):\n",
    "        pass\n",
    "\n",
    "\n",
    "class Feature(FeatureAbstract):\n",
    "\n",
    "    def __init__(self, split, target_ratio):\n",
    "        self.split = split\n",
    "        self.target_ratio = target_ratio\n",
    "\n",
    "    def get_ratio(self, kwargs):\n",
    "        if not 'original_text_preprocessed' in kwargs:\n",
    "            kwargs['original_text_preprocessed'] = \"\"\n",
    "\n",
    "        if self.split == \"train\":\n",
    "            simple_text = kwargs.get('simple_text')\n",
    "            original_text = kwargs.get('original_text')\n",
    "            result_ratio = self.calculate_ratio(simple_text, original_text)\n",
    "\n",
    "        elif self.split == \"valid\" or self.split == \"test\":\n",
    "            result_ratio = self.target_ratio\n",
    "        else:\n",
    "            raise ValueError(\"stage value not supported\")\n",
    "        kwargs['original_text_preprocessed'] += f'{self.name}_{result_ratio} '\n",
    "        return kwargs\n",
    "\n",
    "    @property\n",
    "    def name(self):\n",
    "        class_name = self.__class__.__name__\n",
    "        name = \"\"\n",
    "        for word in re.findall('[A-Z][^A-Z]*', class_name):\n",
    "            if word: name += word[0]\n",
    "        if not name: name = class_name\n",
    "        return name\n",
    "\n",
    "\n",
    "class WordLengthRatio(Feature):\n",
    "\n",
    "    def __init__(self, stage, target_ratio):\n",
    "        super().__init__(stage, target_ratio)\n",
    "        if stage == \"train\":\n",
    "            # THIS IS A WORD TOKENIZER, we need one for dutch\n",
    "            # nl_core_news_sm spacy  spacy.nl_core_news_sm \n",
    "            # nltk.word_tokenize\n",
    "            self.tokenizer =  MosesTokenizer(lang='nl') #  nltk.word_tokenize(language='dutch')  # Moses Tokenizer for Dutch language\n",
    "\n",
    "    def calculate_ratio(self, simple_text, original_text):\n",
    "        return round(ControlDivisionByZero(\n",
    "            len(self.tokenizer.tokenize(simple_text)),\n",
    "            len(self.tokenizer.tokenize(original_text))), 2)\n",
    "\n",
    "\n",
    "class CharLengthRatio(Feature):\n",
    "\n",
    "    def __init__(self, stage, target_ratio):\n",
    "        super().__init__(stage, target_ratio)\n",
    "\n",
    "    def calculate_ratio(self, simple_text, original_text):\n",
    "        return round(ControlDivisionByZero(len(simple_text),\n",
    "            len(original_text)), 2)\n",
    "\n",
    "\n",
    "class LevenshteinRatio(Feature):\n",
    "\n",
    "    def __init__(self, stage, target_ratio):\n",
    "        super().__init__(stage, target_ratio)\n",
    "\n",
    "    def calculate_ratio(self, simple_text, original_text):\n",
    "        simple_text = word_tokenize(simple_text,language='dutch')\n",
    "        original_text = word_tokenize(original_text,language='dutch')\n",
    "        # complex_sentence = tokenize(complex_sentence) # ,language='dutch')\n",
    "\n",
    "        # simple_sentence = tokenize(simple_sentence) # ,language='dutch')\n",
    "        return round(Levenshtein.ratio(original_text,\n",
    "                                       simple_text), 2)\n",
    "\n",
    "\n",
    "class DependencyTreeDepthRatio(Feature):\n",
    "\n",
    "    def __init__(self, stage, target_ratio):\n",
    "        super().__init__(stage, target_ratio)\n",
    "        if stage == \"train\":\n",
    "            self.nlp = self.get_spacy_model()\n",
    "\n",
    "    def get_spacy_model(self):\n",
    "\n",
    "        model = 'nl_core_news_sm'  # from spacy, Dutch pipeline optimized for CPU. Components: tok2vec, morphologizer, tagger, parser, lemmatizer (trainable_lemmatizer), senter, ner.\n",
    "        if not spacy.util.is_package(model):\n",
    "            spacy.cli.download(model)\n",
    "            spacy.cli.link(model, model, force=True, model_path=spacy.util.get_package_path(model))\n",
    "        return spacy.load(model)\n",
    "\n",
    "    def calculate_ratio(self, simple_text, original_text):\n",
    "\n",
    "        result_ratio = round(ControlDivisionByZero(\n",
    "            self.get_dependency_tree_depth(simple_text),\n",
    "            self.get_dependency_tree_depth(original_text)), 2)\n",
    "\n",
    "        return result_ratio\n",
    "\n",
    "    def get_dependency_tree_depth(self, sentence):\n",
    "\n",
    "        def get_subtree_depth(node):\n",
    "            if len(list(node.children)) == 0:\n",
    "                return 0\n",
    "            return 1 + max([get_subtree_depth(child) for child in node.children])\n",
    "\n",
    "        tree_depths = [get_subtree_depth(spacy_sentence.root) for spacy_sentence in self.nlp(sentence).sents]\n",
    "        if len(tree_depths) == 0:\n",
    "            return 0\n",
    "        return max(tree_depths)\n",
    "\n",
    "\n",
    "class WordRankRatio(Feature):\n",
    "    # single underscore = internally\n",
    "\n",
    "    def __init__(self, stage, target_ratio): # constructor of the class \n",
    "        super().__init__(stage, target_ratio)\n",
    "        if stage == \"train\":\n",
    "            self.tokenizer = MosesTokenizer(lang='nl')\n",
    "            self.word2rank = self._get_word2rank()\n",
    "            print('finished get word2rank')\n",
    "            # store in file\n",
    "            # if not present, make file\n",
    "            # with open (\"./resources/DUMPS/word2rank.txt\", \"a\", encoding=\"utf8\") as file: \n",
    "            #     file.writelines(self.word2rank)\n",
    "            #     file.write(\"\\n\")\n",
    "            #     file.close()\n",
    "            print('length of word2rank', len(self.word2rank))\n",
    "            self.length_rank = len(self.word2rank) # hier length of the file! \n",
    "\n",
    "    def calculate_ratio(self, simple_text, original_text):\n",
    "\n",
    "        result_ratio = round(min(ControlDivisionByZero(self.get_lexical_complexity_score(simple_text),\n",
    "                                                       self.get_lexical_complexity_score(original_text)),\n",
    "                                 2), 2)\n",
    "\n",
    "        return result_ratio\n",
    "\n",
    "    def get_lexical_complexity_score(self, sentence, quantile_value=0.75):\n",
    "\n",
    "        words = self.tokenizer.tokenize(self._remove_stopwords(self._remove_punctuation(sentence)))\n",
    "        words = [word for word in words if word in self.word2rank]\n",
    "        if len(words) == 0:\n",
    "            return np.log(1 + self.length_rank)\n",
    "        return np.quantile([self._get_rank(word) for word in words], quantile_value)\n",
    "\n",
    "    def _remove_punctuation(self, text):\n",
    "        return ' '.join([word for word in self.tokenizer.tokenize(text) if not self._is_punctuation(word)])\n",
    "\n",
    "    def _remove_stopwords(self, text):\n",
    "        return ' '.join([w for w in self.tokenizer.tokenize(text) if w.lower() not in stopwords])\n",
    "\n",
    "    def _is_punctuation(self, word):\n",
    "        return ''.join([char for char in word if char not in punctuation]) == ''\n",
    "\n",
    "    def _get_rank(self, word):\n",
    "        rank = self.word2rank.get(word, self.length_rank)\n",
    "        return np.log(1 + rank)\n",
    "\n",
    "    def _get_word2rank(self, vocab_size=np.inf):\n",
    "        model_filepath = DUMPS_DIR / f\"{WORD_EMBEDDINGS_NAME}.pk\"\n",
    "        if model_filepath.exists():\n",
    "            with open(model_filepath, 'rb') as f:\n",
    "                model = pickle.load(f)\n",
    "            return model\n",
    "        else:\n",
    "            print(\"Opening conll model...\")\n",
    "            print(\"Preprocessing word2rank...\")\n",
    "            DUMPS_DIR.mkdir(parents=True, exist_ok=True)\n",
    "            WORD_EMBEDDINGS_PATH = DUMPS_DIR / f'{WORD_EMBEDDINGS_NAME}.txt'\n",
    "            lines_generator = self._yield_lines(WORD_EMBEDDINGS_PATH)\n",
    "            word2rank = {}\n",
    "            # next(lines_generator)\n",
    "            for i, line in enumerate(lines_generator):\n",
    "                if i >= vocab_size: break\n",
    "                word = line.split(' ')[0]\n",
    "                word2rank[word] = i\n",
    "\n",
    "            pickle.dump(word2rank, open(model_filepath, 'wb'))\n",
    "            # txt_file = DUMPS_DIR / f'{WORD_EMBEDDINGS_NAME}.txt'\n",
    "            # zip_file = DUMPS_DIR / f'{WORD_EMBEDDINGS_NAME}.zip'\n",
    "            # if txt_file.exists(): txt_file.unlink()\n",
    "            # if zip_file.exists(): zip_file.unlink()\n",
    "            return word2rank\n",
    "        \n",
    "        # else:            \n",
    "        #     print(\"Downloading dutch embeddings ...\") # pretrained vectors\n",
    "        #     self._download_twitter_embeddings(model_name='coostco', dest_dir=str(DUMPS_DIR))\n",
    "        #     print(\"Preprocessing word2rank...\")\n",
    "        #     DUMPS_DIR.mkdir(parents=True, exist_ok=True)\n",
    "        #     WORD_EMBEDDINGS_PATH = DUMPS_DIR / f'{WORD_EMBEDDINGS_NAME}.bin'\n",
    "        #     model = self._load_word_embeddings(WORD_EMBEDDINGS_PATH) # returns index_to_key\n",
    "        #     # store into file\n",
    "        #     lines_generator = model # self._yield_lines(model) # (WORD_EMBEDDINGS_PATH)\n",
    "            \n",
    "        #     word2rank = {}\n",
    "        #     # next(lines_generator)\n",
    "        #     print('vocab_size', vocab_size)\n",
    "        #     for i, line in enumerate(lines_generator):\n",
    "        #         if i >= vocab_size: break # its not vocab size any more but  # len(model.key_to_index)\n",
    "        #         word = line.split(',')[0]\n",
    "        #         print('word', word)\n",
    "        #         word2rank[word] = i\n",
    "        #         print('ranked word?', word2rank[word])\n",
    "                \n",
    "        #     pickle.dump(word2rank, open(model_filepath, 'wb'))\n",
    "        #     txt_file = DUMPS_DIR / f'{WORD_EMBEDDINGS_NAME}.txt'\n",
    "        #     zip_file = DUMPS_DIR / f'{WORD_EMBEDDINGS_NAME}.zip'\n",
    "        #     # if txt_file.exists(): txt_file.unlink()\n",
    "        #     # if zip_file.exists(): zip_file.unlink()\n",
    "        #     # print(word2rank)\n",
    "        #     return word2rank\n",
    "    \n",
    "    def _load_word_embeddings(self, filepath):\n",
    "        model = gensim.models.KeyedVectors.load_word2vec_format(filepath, binary=True) # '../resources/DUMPS/model.bin'\n",
    "        model_indexes = model.index_to_key\n",
    "        return model_indexes\n",
    "    \n",
    "    def _download_twitter_embeddings(self, model_name, dest_dir): # pretrained rankings\n",
    "        url = ''\n",
    "        if model_name == 'coosto_model':\n",
    "            url = 'https://github.com/coosto/dutch-word-embeddings/releases/download/v1.0/model.bin'\n",
    "        file_path = self._download_url(url, dest_dir)\n",
    "        out_filepath = Path(file_path)\n",
    "        out_filepath = out_filepath.parent / f'{out_filepath.stem}.txt'\n",
    "        # print(out_filepath, out_filepath.exists())\n",
    "        if not out_filepath.exists():\n",
    "            print(\"Extracting: \", Path(file_path).name)\n",
    "            self._unzip(file_path, dest_dir)\n",
    "\n",
    "    def _yield_lines(self, filepath):\n",
    "        filepath = Path(filepath)\n",
    "        with filepath.open('r', encoding=\"latin-1\") as f:\n",
    "            for line in f:\n",
    "                # print(line)\n",
    "                yield line.rstrip()\n",
    "\n",
    "    def _download_url(self, url, output_path):\n",
    "        name = url.split('/')[-1]\n",
    "        file_path = f'{output_path}/{name}'\n",
    "        if not Path(file_path).exists():\n",
    "            with tqdm(unit='B', unit_scale=True, leave=True, miniters=1,\n",
    "                      desc=name) as t:  # all optional kwargs\n",
    "                urllib.request.urlretrieve(url, filename=file_path, reporthook=self._download_report_hook(t), data=None)\n",
    "        return file_path\n",
    "\n",
    "    def _unzip(self, file_path, dest_dir=None):\n",
    "        if dest_dir is None:\n",
    "            dest_dir = os.path.dirname(file_path)\n",
    "        if file_path.endswith('.zip'):\n",
    "            with zipfile.ZipFile(file_path, \"r\") as zip_ref:\n",
    "                zip_ref.extractall(dest_dir)\n",
    "        elif file_path.endswith(\"tar.gz\") or file_path.endswith(\"tgz\"):\n",
    "            tar = tarfile.open(file_path, \"r:gz\")\n",
    "            tar.extractall(dest_dir)\n",
    "            tar.close()\n",
    "        elif file_path.endswith(\"tar\"):\n",
    "            tar = tarfile.open(file_path, \"r:\")\n",
    "            tar.extractall(dest_dir)\n",
    "            tar.close()\n",
    "\n",
    "    def _download_report_hook(self, t):\n",
    "        last_b = [0]\n",
    "\n",
    "        def inner(b=1, bsize=1, tsize=None):\n",
    "            if tsize is not None:\n",
    "                t.total = tsize\n",
    "            t.update((b - last_b[0]) * bsize)\n",
    "            last_b[0] = b\n",
    "\n",
    "        return inner"
   ]
  },
  {
   "cell_type": "code",
   "execution_count": 49,
   "metadata": {},
   "outputs": [],
   "source": [
    "complex_sentence = \"Sommige steden aan de Eyre Highway in de zuidoostelijke hoek van West-Australië, tussen de Zuid-Australische grens bijna tot aan Caiguna, volgen de officiële West-Australische tijd niet.\"\n",
    "simple_sentence = \"Sommige steden in West-Australië gebruiken geen West-Australische tijd.\""
   ]
  },
  {
   "cell_type": "code",
   "execution_count": 50,
   "metadata": {},
   "outputs": [
    {
     "name": "stdout",
     "output_type": "stream",
     "text": [
      "finished get word2rank\n",
      "length of word2rank 2000000\n"
     ]
    }
   ],
   "source": [
    "wordRank = WordRankRatio(\"train\", 0.8)"
   ]
  },
  {
   "cell_type": "code",
   "execution_count": 51,
   "metadata": {},
   "outputs": [
    {
     "data": {
      "text/plain": [
       "9.982252521171782"
      ]
     },
     "execution_count": 51,
     "metadata": {},
     "output_type": "execute_result"
    }
   ],
   "source": [
    "wordRank.get_lexical_complexity_score(complex_sentence)"
   ]
  },
  {
   "cell_type": "code",
   "execution_count": 52,
   "metadata": {},
   "outputs": [
    {
     "data": {
      "text/plain": [
       "7.6787889981991535"
      ]
     },
     "execution_count": 52,
     "metadata": {},
     "output_type": "execute_result"
    }
   ],
   "source": [
    "wordRank.get_lexical_complexity_score(simple_sentence)"
   ]
  },
  {
   "cell_type": "code",
   "execution_count": 53,
   "metadata": {},
   "outputs": [],
   "source": [
    "complex_sentence = \"Het ruimtevaartuig bestaat uit twee hoofdelementen: de NASA Cassini-orbiter, genoemd naar de Italiaans-Franse astronoom Giovanni Domenico Cassini, en de ESA Huygens-sonde, genoemd naar de Nederlandse astronoom, wiskundige en natuurkundige Christiaan Huygens.\"\n",
    "simple_sentence = \"Het ruimtevaartuig heeft twee hoofdelementen: de NASA Cassini-orbiter en de ESA Huygens-sonde.\""
   ]
  },
  {
   "cell_type": "code",
   "execution_count": 54,
   "metadata": {},
   "outputs": [
    {
     "data": {
      "text/plain": [
       "10.212353279947028"
      ]
     },
     "execution_count": 54,
     "metadata": {},
     "output_type": "execute_result"
    }
   ],
   "source": [
    "wordRank.get_lexical_complexity_score(complex_sentence)"
   ]
  },
  {
   "cell_type": "code",
   "execution_count": 55,
   "metadata": {},
   "outputs": [
    {
     "data": {
      "text/plain": [
       "12.142957986385708"
      ]
     },
     "execution_count": 55,
     "metadata": {},
     "output_type": "execute_result"
    }
   ],
   "source": [
    "wordRank.get_lexical_complexity_score(simple_sentence)"
   ]
  },
  {
   "cell_type": "code",
   "execution_count": 56,
   "metadata": {},
   "outputs": [],
   "source": [
    "complex_sentence = \"Dit was het gebied ten oosten van de monding van de rivier de Vistula, later ook wel 'eigenlijk Pruisen' genoemd.\"\n",
    "simple_sentence=\"Pruisen was eigenlijk de plaats ten oosten van de monding van de rivier de Vistula.\""
   ]
  },
  {
   "cell_type": "code",
   "execution_count": 57,
   "metadata": {},
   "outputs": [
    {
     "data": {
      "text/plain": [
       "8.799416316922343"
      ]
     },
     "execution_count": 57,
     "metadata": {},
     "output_type": "execute_result"
    }
   ],
   "source": [
    "wordRank.get_lexical_complexity_score(complex_sentence)"
   ]
  },
  {
   "cell_type": "code",
   "execution_count": 58,
   "metadata": {},
   "outputs": [
    {
     "data": {
      "text/plain": [
       "9.029323643692715"
      ]
     },
     "execution_count": 58,
     "metadata": {},
     "output_type": "execute_result"
    }
   ],
   "source": [
    "wordRank.get_lexical_complexity_score(simple_sentence)"
   ]
  },
  {
   "cell_type": "code",
   "execution_count": 59,
   "metadata": {},
   "outputs": [],
   "source": [
    "model = gensim.models.KeyedVectors.load_word2vec_format('../resources/DUMPS/cc.nl.300.txt' , binary=False)"
   ]
  },
  {
   "cell_type": "code",
   "execution_count": 60,
   "metadata": {},
   "outputs": [
    {
     "data": {
      "text/plain": [
       "[('uitmonding', 0.6713468432426453),\n",
       " ('mondingen', 0.6680971384048462),\n",
       " ('mondingsgebied', 0.6594777703285217),\n",
       " ('rivier', 0.6502463221549988),\n",
       " ('Monding', 0.63310307264328),\n",
       " ('riviermonding', 0.621979296207428),\n",
       " ('oever', 0.6173555850982666),\n",
       " ('inmonding', 0.6017937660217285),\n",
       " ('bovenloop', 0.5896535515785217),\n",
       " ('benedenloop', 0.5862765908241272)]"
      ]
     },
     "execution_count": 60,
     "metadata": {},
     "output_type": "execute_result"
    }
   ],
   "source": [
    "model.most_similar(\"monding\")"
   ]
  },
  {
   "cell_type": "code",
   "execution_count": 61,
   "metadata": {},
   "outputs": [
    {
     "data": {
      "text/plain": [
       "[('schiereilandje', 0.7253426909446716),\n",
       " ('schiereilanden', 0.7160058617591858),\n",
       " ('eiland', 0.6915854215621948),\n",
       " ('Schiereiland', 0.6885219216346741),\n",
       " ('schiereilandjes', 0.6633923053741455),\n",
       " ('eilandje', 0.6587224006652832),\n",
       " ('Sinaïschiereiland', 0.6569958925247192),\n",
       " ('Sinaï-schiereiland', 0.6565256118774414),\n",
       " ('Gydan-schiereiland', 0.6527586579322815),\n",
       " ('Taz-schiereiland', 0.6515459418296814)]"
      ]
     },
     "execution_count": 61,
     "metadata": {},
     "output_type": "execute_result"
    }
   ],
   "source": [
    "model.most_similar(\"schiereiland\")"
   ]
  },
  {
   "cell_type": "code",
   "execution_count": 62,
   "metadata": {},
   "outputs": [
    {
     "data": {
      "text/plain": [
       "[('chitineus', 0.7659825086593628),\n",
       " ('chitinepantser', 0.7478009462356567),\n",
       " ('chitinelaag', 0.7477145195007324),\n",
       " ('Chitine', 0.7288618683815002),\n",
       " ('chitineuze', 0.7251715660095215),\n",
       " ('chitinase', 0.6549855470657349),\n",
       " ('chitosan', 0.5534986853599548),\n",
       " ('quercitine', 0.5291063785552979),\n",
       " ('Ipakitine', 0.5217061042785645),\n",
       " ('adiponectine', 0.519142746925354)]"
      ]
     },
     "execution_count": 62,
     "metadata": {},
     "output_type": "execute_result"
    }
   ],
   "source": [
    "model.most_similar(\"chitine\") # what to do with that? "
   ]
  },
  {
   "cell_type": "code",
   "execution_count": 63,
   "metadata": {},
   "outputs": [
    {
     "data": {
      "text/plain": [
       "[('muiterijen', 0.7211874723434448),\n",
       " ('muiten', 0.6396942734718323),\n",
       " ('muiter', 0.6047860383987427),\n",
       " ('muiters', 0.6009116172790527),\n",
       " ('muitend', 0.5844631195068359),\n",
       " ('muitende', 0.5715579986572266),\n",
       " ('Muiterij', 0.5705426335334778),\n",
       " ('opstand', 0.5567310452461243),\n",
       " ('muitelingen', 0.509614109992981),\n",
       " ('opstandelingen', 0.501315712928772)]"
      ]
     },
     "execution_count": 63,
     "metadata": {},
     "output_type": "execute_result"
    }
   ],
   "source": [
    "model.most_similar(\"muiterij\")"
   ]
  },
  {
   "cell_type": "code",
   "execution_count": 64,
   "metadata": {},
   "outputs": [
    {
     "data": {
      "text/plain": [
       "[('moslimminderheden', 0.873995304107666),\n",
       " ('moslimmeerderheid', 0.7240265011787415),\n",
       " ('moslimmigranten', 0.7145824432373047),\n",
       " ('moslimmilities', 0.6938619017601013),\n",
       " ('moslimpopulatie', 0.664075493812561),\n",
       " ('moslimmilitanten', 0.6638409495353699),\n",
       " ('moslim-meerderheid', 0.6448001861572266),\n",
       " ('moslimimmigranten', 0.626603901386261),\n",
       " ('moslim-immigranten', 0.6241893768310547),\n",
       " ('moslimachtergrond', 0.6201066374778748)]"
      ]
     },
     "execution_count": 64,
     "metadata": {},
     "output_type": "execute_result"
    }
   ],
   "source": [
    "model.most_similar(\"moslimminderheid\")"
   ]
  },
  {
   "cell_type": "code",
   "execution_count": 65,
   "metadata": {},
   "outputs": [
    {
     "data": {
      "text/plain": [
       "[('Vaginale', 0.7293235659599304),\n",
       " ('vulvovaginale', 0.712486743927002),\n",
       " ('vaginal', 0.695442795753479),\n",
       " ('transvaginale', 0.6486552953720093),\n",
       " ('vaginaal', 0.6286012530326843),\n",
       " ('vagina', 0.6207197904586792),\n",
       " ('vaginaopening', 0.6058916449546814),\n",
       " ('vaginawand', 0.5986759066581726),\n",
       " ('urethrale', 0.5705299973487854),\n",
       " ('genitale', 0.5629680752754211)]"
      ]
     },
     "execution_count": 65,
     "metadata": {},
     "output_type": "execute_result"
    }
   ],
   "source": [
    "model.most_similar(\"vaginale\") "
   ]
  },
  {
   "cell_type": "code",
   "execution_count": 66,
   "metadata": {},
   "outputs": [
    {
     "data": {
      "text/plain": [
       "[('tandheelkunde', 0.7470686435699463),\n",
       " ('Tandheelkundige', 0.7367693185806274),\n",
       " ('tandheelkundigen', 0.733983039855957),\n",
       " ('tandheelkundig', 0.7016889452934265),\n",
       " ('orthodontische', 0.6754381656646729),\n",
       " ('tandtechnische', 0.6710221171379089),\n",
       " ('prothetische', 0.6651920080184937),\n",
       " ('medische', 0.6603924632072449),\n",
       " ('tandprothetische', 0.658509373664856),\n",
       " ('paramedische', 0.6571154594421387)]"
      ]
     },
     "execution_count": 66,
     "metadata": {},
     "output_type": "execute_result"
    }
   ],
   "source": [
    "model.most_similar(\"tandheelkundige\")"
   ]
  },
  {
   "cell_type": "code",
   "execution_count": 67,
   "metadata": {},
   "outputs": [
    {
     "data": {
      "text/plain": [
       "43204"
      ]
     },
     "execution_count": 67,
     "metadata": {},
     "output_type": "execute_result"
    }
   ],
   "source": [
    "model.key_to_index[\"impasse\"]"
   ]
  },
  {
   "cell_type": "code",
   "execution_count": 68,
   "metadata": {},
   "outputs": [
    {
     "ename": "KeyError",
     "evalue": "'gitaarsnaar'",
     "output_type": "error",
     "traceback": [
      "\u001b[1;31m---------------------------------------------------------------------------\u001b[0m",
      "\u001b[1;31mKeyError\u001b[0m                                  Traceback (most recent call last)",
      "Cell \u001b[1;32mIn[68], line 1\u001b[0m\n\u001b[1;32m----> 1\u001b[0m model\u001b[39m.\u001b[39;49mkey_to_index[\u001b[39m\"\u001b[39;49m\u001b[39mgitaarsnaar\u001b[39;49m\u001b[39m\"\u001b[39;49m]\n",
      "\u001b[1;31mKeyError\u001b[0m: 'gitaarsnaar'"
     ]
    }
   ],
   "source": [
    "model.key_to_index[\"gitaarsnaar\"]"
   ]
  },
  {
   "cell_type": "code",
   "execution_count": null,
   "metadata": {},
   "outputs": [
    {
     "data": {
      "text/plain": [
       "370665"
      ]
     },
     "execution_count": 43,
     "metadata": {},
     "output_type": "execute_result"
    }
   ],
   "source": [
    "model.key_to_index[\"aardnoten\"]"
   ]
  },
  {
   "cell_type": "code",
   "execution_count": null,
   "metadata": {},
   "outputs": [
    {
     "data": {
      "text/plain": [
       "4"
      ]
     },
     "execution_count": 44,
     "metadata": {},
     "output_type": "execute_result"
    }
   ],
   "source": [
    "model.key_to_index[\"van\"]"
   ]
  },
  {
   "cell_type": "code",
   "execution_count": null,
   "metadata": {},
   "outputs": [
    {
     "data": {
      "text/plain": [
       "[('warmtekrachtkoppeling', 0.8105178475379944),\n",
       " ('Warmte-krachtkoppeling', 0.7976646423339844),\n",
       " ('Warmtekracht', 0.7961313128471375),\n",
       " ('micro-warmtekrachtkoppeling', 0.7938953042030334),\n",
       " ('warmtekrachtkoppelingen', 0.7838013768196106),\n",
       " ('microwarmtekrachtkoppeling', 0.7728864550590515),\n",
       " ('warmtekrachtkoppelingsinstallatie', 0.7693067789077759),\n",
       " ('Warmtekrachtinstallatie', 0.7620224356651306),\n",
       " ('warmtekrachtkoppelingsinstallaties', 0.746272623538971),\n",
       " ('warmte-krachtkoppeling', 0.6955339908599854)]"
      ]
     },
     "execution_count": 45,
     "metadata": {},
     "output_type": "execute_result"
    }
   ],
   "source": [
    "model.most_similar(\"Warmtekrachtkoppeling\")"
   ]
  },
  {
   "cell_type": "code",
   "execution_count": null,
   "metadata": {},
   "outputs": [
    {
     "data": {
      "text/plain": [
       "[('het', 0.6326913237571716),\n",
       " ('voor', 0.6319442987442017),\n",
       " ('bij', 0.6279339790344238),\n",
       " ('daarvan', 0.6101812720298767),\n",
       " ('met', 0.604983389377594),\n",
       " ('hiervan', 0.603034496307373),\n",
       " ('rondom', 0.5895820260047913),\n",
       " ('Van', 0.5798993706703186),\n",
       " ('ervan', 0.5730587840080261),\n",
       " ('daarvan.De', 0.570547878742218)]"
      ]
     },
     "execution_count": 46,
     "metadata": {},
     "output_type": "execute_result"
    }
   ],
   "source": [
    "model.most_similar(\"van\")"
   ]
  }
 ],
 "metadata": {
  "kernelspec": {
   "display_name": "Python 3",
   "language": "python",
   "name": "python3"
  },
  "language_info": {
   "codemirror_mode": {
    "name": "ipython",
    "version": 3
   },
   "file_extension": ".py",
   "mimetype": "text/x-python",
   "name": "python",
   "nbconvert_exporter": "python",
   "pygments_lexer": "ipython3",
   "version": "3.10.8"
  },
  "orig_nbformat": 4
 },
 "nbformat": 4,
 "nbformat_minor": 2
}
